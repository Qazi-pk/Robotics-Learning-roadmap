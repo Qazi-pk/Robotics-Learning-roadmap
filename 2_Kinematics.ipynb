{
  "cells": [
    {
      "cell_type": "markdown",
      "metadata": {
        "id": "view-in-github",
        "colab_type": "text"
      },
      "source": [
        "<a href=\"https://colab.research.google.com/github/Qazi-pk/Robotics-Learning-roadmap/blob/main/2_Kinematics.ipynb\" target=\"_parent\"><img src=\"https://colab.research.google.com/assets/colab-badge.svg\" alt=\"Open In Colab\"/></a>"
      ]
    },
    {
      "cell_type": "markdown",
      "id": "2ca01415",
      "metadata": {
        "id": "2ca01415"
      },
      "source": [
        "# Week 2 — Forward & Inverse Kinematics\n",
        "\n",
        "**Learning objectives:**\n",
        "- Derive forward kinematics for a planar 2-link manipulator.\n",
        "- Compute analytic inverse kinematics and understand multiple solutions.\n",
        "\n",
        "---"
      ]
    },
    {
      "cell_type": "code",
      "source": [
        "# ===============================================================\n",
        "# 🤖 SMART AUTO-VERSIONING FOR GOOGLE COLAB (No Tokens Needed)\n",
        "# ---------------------------------------------------------------\n",
        "# Automatically:\n",
        "#   1. Creates timestamped backups in Google Drive\n",
        "#   2. Detects GitHub repo (if cloned or opened via badge)\n",
        "#   3. Safely pushes changes to GitHub when authorized\n",
        "# ===============================================================\n",
        "\n",
        "import os, re, datetime, json\n",
        "from google.colab import drive\n",
        "\n",
        "# === 1️⃣ Mount Google Drive (for backup storage) ===\n",
        "# To re-authenticate, simply run this cell again.\n",
        "drive.mount('/content/drive')\n",
        "\n",
        "# === 2️⃣ Paths & Setup ===\n",
        "DRIVE_BACKUP_DIR = \"/content/drive/MyDrive/ColabVersions\"\n",
        "os.makedirs(DRIVE_BACKUP_DIR, exist_ok=True)\n",
        "\n",
        "# Detect repo folder automatically\n",
        "def detect_repo_dir():\n",
        "    \"\"\"Try to detect GitHub repo automatically from notebook path.\"\"\"\n",
        "    paths = [p for p in os.listdir(\"/content\") if os.path.isdir(f\"/content/{p}\")]\n",
        "    for p in paths:\n",
        "        # Detect by presence of .git folder\n",
        "        if os.path.exists(f\"/content/{p}/.git\"):\n",
        "            return f\"/content/{p}\"\n",
        "    return None\n",
        "\n",
        "REPO_DIR = detect_repo_dir()\n",
        "if REPO_DIR:\n",
        "    print(f\"🧩 GitHub repository detected: {REPO_DIR}\")\n",
        "else:\n",
        "    print(\"ℹ️ No GitHub repo detected in /content. Will only save to Drive.\")\n",
        "\n",
        "# === 3️⃣ Versioning Function ===\n",
        "def auto_version(commit_message=\"Auto-version update\"):\n",
        "    now = datetime.datetime.now().strftime(\"%Y-%m-%d_%H-%M-%S\")\n",
        "\n",
        "    # Find notebook name\n",
        "    notebooks = [f for f in os.listdir('/content') if f.endswith('.ipynb')]\n",
        "    if notebooks:\n",
        "        nb_name = notebooks[0]\n",
        "        backup_name = f\"{os.path.splitext(nb_name)[0]}_v{now}.ipynb\"\n",
        "        os.system(f\"cp /content/{nb_name} '{DRIVE_BACKUP_DIR}/{backup_name}'\")\n",
        "        print(f\"✅ Backup saved to Drive → {backup_name}\")\n",
        "    else:\n",
        "        print(\"⚠️ No notebook file found in /content directory\")\n",
        "\n",
        "    # GitHub push (safe mode)\n",
        "    if REPO_DIR and os.path.exists(f\"{REPO_DIR}/.git\"):\n",
        "        os.chdir(REPO_DIR)\n",
        "        os.system(\"git config --global user.email 'colab@autoversion.com'\")\n",
        "        os.system(\"git config --global user.name 'Colab AutoVersion'\")\n",
        "        os.system(\"git add .\")\n",
        "        os.system(f'git commit -m \"{commit_message} ({now})\"')\n",
        "        code = os.system(\"git push origin main\")\n",
        "        if code == 0:\n",
        "            print(\"✅ Changes pushed to GitHub successfully.\")\n",
        "        else:\n",
        "            print(\"⚠️ GitHub push skipped (token or permission not available).\")\n",
        "    else:\n",
        "        print(\"ℹ️ Skipped GitHub commit (no repo detected).\")\n",
        "\n",
        "print(\"🔁 Auto-versioning ready! Use auto_version('commit message') anytime.\")"
      ],
      "metadata": {
        "colab": {
          "base_uri": "https://localhost:8080/"
        },
        "id": "Hd1bDCt6z0bb",
        "outputId": "5057c56c-5c57-419b-9d0b-cde98aed8343"
      },
      "id": "Hd1bDCt6z0bb",
      "execution_count": 8,
      "outputs": [
        {
          "output_type": "stream",
          "name": "stdout",
          "text": [
            "Mounted at /content/drive\n",
            "ℹ️ No GitHub repo detected in /content. Will only save to Drive.\n",
            "🔁 Auto-versioning ready! Use auto_version('commit message') anytime.\n"
          ]
        }
      ]
    },
    {
      "cell_type": "code",
      "metadata": {
        "id": "ea7d3de7"
      },
      "source": [
        "!ls /content/drive/MyDrive/ColabVersions"
      ],
      "id": "ea7d3de7",
      "execution_count": 11,
      "outputs": []
    },
    {
      "cell_type": "code",
      "metadata": {
        "id": "b6510a71"
      },
      "source": [
        "!ls /content/drive/MyDrive/ColabVersions"
      ],
      "id": "b6510a71",
      "execution_count": 12,
      "outputs": []
    },
    {
      "cell_type": "code",
      "metadata": {
        "id": "82b27c8d"
      },
      "source": [
        "from google.colab import drive\n",
        "import json\n",
        "\n",
        "# Mount Google Drive (if not already mounted)\n",
        "drive.mount('/content/drive')\n",
        "\n",
        "# Define the path to your notebook file\n",
        "file_path = '/content/drive/MyDrive/ColabVersions/2_Kinematics_v2024-07-19_16-14-19.ipynb' # Replace with the actual file name\n",
        "\n",
        "try:\n",
        "    # Open and read the notebook file\n",
        "    with open(file_path, 'r') as f:\n",
        "        notebook_content = json.load(f)\n",
        "\n",
        "    # You can now work with the notebook_content dictionary\n",
        "    # For example, print the keys to see the structure\n",
        "    print(\"Notebook content structure keys:\")\n",
        "    print(notebook_content.keys())\n",
        "\n",
        "    # Or access specific parts, like the cells\n",
        "    # print(\"\\nFirst few cells:\")\n",
        "    # for i, cell in enumerate(notebook_content['cells'][:5]):\n",
        "    #     print(f\"--- Cell {i} ---\")\n",
        "    #     print(f\"Cell type: {cell['cell_type']}\")\n",
        "    #     print(\"Source:\")\n",
        "    #     print(\"\".join(cell['source']))\n",
        "    #     print(\"-\" * (len(f\"--- Cell {i} ---\")))\n",
        "\n",
        "\n",
        "except FileNotFoundError:\n",
        "    print(f\"Error: The file was not found at {file_path}\")\n",
        "except Exception as e:\n",
        "    print(f\"An error occurred: {e}\")"
      ],
      "id": "82b27c8d",
      "execution_count": null,
      "outputs": []
    },
    {
      "cell_type": "code",
      "execution_count": 1,
      "id": "f59ad6d5",
      "metadata": {
        "colab": {
          "base_uri": "https://localhost:8080/"
        },
        "id": "f59ad6d5",
        "outputId": "130e3e6a-05b5-4d01-970b-1aa41b421185"
      },
      "outputs": [
        {
          "output_type": "stream",
          "name": "stdout",
          "text": [
            "FK -> 1.4349479293681051 1.0533104113238214\n",
            "Recovered IK -> 0.5000000000000006 0.2999999999999991\n"
          ]
        }
      ],
      "source": [
        "import numpy as np\n",
        "import matplotlib.pyplot as plt\n",
        "\n",
        "# Forward kinematics for 2-link planar arm\n",
        "def fk_2link(theta1, theta2, L1=1.0, L2=0.8):\n",
        "    x = L1*np.cos(theta1) + L2*np.cos(theta1+theta2)\n",
        "    y = L1*np.sin(theta1) + L2*np.sin(theta1+theta2)\n",
        "    return x, y\n",
        "\n",
        "# Analytic inverse kinematics (elbow-up)\n",
        "def ik_2link(x, y, L1=1.0, L2=0.8):\n",
        "    D = (x**2 + y**2 - L1**2 - L2**2)/(2*L1*L2)\n",
        "    if abs(D) > 1.0:\n",
        "        raise ValueError('Target unreachable')\n",
        "    th2 = np.arctan2(np.sqrt(max(0,1-D**2)), D)\n",
        "    th1 = np.arctan2(y, x) - np.arctan2(L2*np.sin(th2), L1+L2*np.cos(th2))\n",
        "    return th1, th2\n",
        "\n",
        "# Test\n",
        "x,y = fk_2link(0.5, 0.3)\n",
        "print('FK ->', x, y)\n",
        "th1,th2 = ik_2link(x,y)\n",
        "print('Recovered IK ->', th1, th2)\n"
      ]
    },
    {
      "cell_type": "markdown",
      "id": "8fe98815",
      "metadata": {
        "id": "8fe98815"
      },
      "source": [
        "### Exercises\n",
        "- Plot workspace and reachable region.\n",
        "- Implement numerical IK (Newton) using Jacobian inverse.\n",
        "- Compare analytic and numeric IK results."
      ]
    },
    {
      "cell_type": "markdown",
      "metadata": {
        "id": "d166d25d"
      },
      "source": [
        "# Task\n",
        "Plot the workspace of the 2-link robotic arm using the `fk_2link` function."
      ],
      "id": "d166d25d"
    },
    {
      "cell_type": "markdown",
      "metadata": {
        "id": "3152a841"
      },
      "source": [
        "## Generate joint angles\n",
        "\n",
        "### Subtask:\n",
        "Create arrays of `theta1` and `theta2` values covering the full range of motion (-pi to pi).\n"
      ],
      "id": "3152a841"
    },
    {
      "cell_type": "markdown",
      "metadata": {
        "id": "84c76f17"
      },
      "source": [
        "**Reasoning**:\n",
        "Generate two NumPy arrays for theta1 and theta2 values covering the range from -π to π using `np.linspace`.\n",
        "\n"
      ],
      "id": "84c76f17"
    },
    {
      "cell_type": "code",
      "metadata": {
        "id": "9d3341e0"
      },
      "source": [
        "theta1_values = np.linspace(-np.pi, np.pi, 100)\n",
        "theta2_values = np.linspace(-np.pi, np.pi, 100)"
      ],
      "id": "9d3341e0",
      "execution_count": 4,
      "outputs": []
    },
    {
      "cell_type": "markdown",
      "metadata": {
        "id": "d700901d"
      },
      "source": [
        "## Compute end-effector positions\n",
        "\n",
        "### Subtask:\n",
        "Use the `fk_2link` function to compute the end-effector (x, y) positions for all combinations of `theta1` and `theta2`.\n"
      ],
      "id": "d700901d"
    },
    {
      "cell_type": "markdown",
      "metadata": {
        "id": "6a0e78b2"
      },
      "source": [
        "**Reasoning**:\n",
        "Iterate through all combinations of theta1 and theta2 values, calculate the end-effector positions using fk_2link, and store the x and y coordinates in separate lists.\n",
        "\n"
      ],
      "id": "6a0e78b2"
    },
    {
      "cell_type": "code",
      "metadata": {
        "id": "fb135297"
      },
      "source": [
        "x_coords = []\n",
        "y_coords = []\n",
        "\n",
        "for t1 in theta1_values:\n",
        "    for t2 in theta2_values:\n",
        "        x, y = fk_2link(t1, t2)\n",
        "        x_coords.append(x)\n",
        "        y_coords.append(y)"
      ],
      "id": "fb135297",
      "execution_count": 5,
      "outputs": []
    },
    {
      "cell_type": "markdown",
      "metadata": {
        "id": "e5e3697a"
      },
      "source": [
        "## Plot the workspace\n",
        "\n",
        "### Subtask:\n",
        "Plot the computed (x, y) positions to visualize the workspace.\n"
      ],
      "id": "e5e3697a"
    },
    {
      "cell_type": "markdown",
      "metadata": {
        "id": "2a43e032"
      },
      "source": [
        "**Reasoning**:\n",
        "Create a scatter plot of the computed x and y coordinates, add labels and a title, and set the aspect ratio to equal.\n",
        "\n"
      ],
      "id": "2a43e032"
    },
    {
      "cell_type": "code",
      "metadata": {
        "colab": {
          "base_uri": "https://localhost:8080/",
          "height": 718
        },
        "id": "c9e0bd9a",
        "outputId": "afc30a0e-1029-4933-9063-8b26c43066db"
      },
      "source": [
        "plt.figure(figsize=(8, 8))\n",
        "plt.scatter(x_coords, y_coords, s=1)\n",
        "plt.xlabel('X Position')\n",
        "plt.ylabel('Y Position')\n",
        "plt.title('2-Link Robotic Arm Workspace')\n",
        "plt.axis('equal')\n",
        "plt.show()"
      ],
      "id": "c9e0bd9a",
      "execution_count": 6,
      "outputs": [
        {
          "output_type": "display_data",
          "data": {
            "text/plain": [
              "<Figure size 800x800 with 1 Axes>"
            ],
            "image/png": "[encoded data removed]"
          },
          "metadata": {}
        }
      ]
    },
    {
      "cell_type": "markdown",
      "metadata": {
        "id": "046553f7"
      },
      "source": [
        "## Summary:\n",
        "\n",
        "### Data Analysis Key Findings\n",
        "\n",
        "*   The workspace of the 2-link robotic arm, generated by varying joint angles `theta1` and `theta2` between -π and π, was successfully visualized.\n",
        "*   The plot shows a circular area representing the reachable space of the end-effector.\n",
        "\n",
        "### Insights or Next Steps\n",
        "\n",
        "*   The density of points in the workspace plot could be increased by generating more values for `theta1` and `theta2` using `np.linspace` with a larger number of samples.\n",
        "*   The workspace could be analyzed further by considering different link lengths or joint constraints.\n"
      ],
      "id": "046553f7"
    },
    {
      "cell_type": "markdown",
      "metadata": {
        "id": "6376352e"
      },
      "source": [
        "# Task\n",
        "Implement numerical inverse kinematics for a 2-link planar manipulator using the Jacobian inverse method."
      ],
      "id": "6376352e"
    },
    {
      "cell_type": "markdown",
      "metadata": {
        "id": "5a4d0f01"
      },
      "source": [
        "## Derive the jacobian matrix\n",
        "\n",
        "### Subtask:\n",
        "Compute the Jacobian matrix for the 2-link planar manipulator, which relates joint velocities to end-effector velocities.\n"
      ],
      "id": "5a4d0f01"
    },
    {
      "cell_type": "markdown",
      "metadata": {
        "id": "c8b4b338"
      },
      "source": [
        "**Reasoning**:\n",
        "Define the jacobian_2link function to compute the Jacobian matrix based on the partial derivatives of the forward kinematics equations.\n",
        "\n"
      ],
      "id": "c8b4b338"
    },
    {
      "cell_type": "code",
      "metadata": {
        "colab": {
          "base_uri": "https://localhost:8080/",
          "height": 332
        },
        "id": "9a157f83",
        "outputId": "87e3d1e6-49a0-4fbe-ca3d-fbfe0c759bfa"
      },
      "source": [
        "def jacobian_2link(theta1, theta2, L1=1.0, L2=0.8):\n",
        "    \"\"\"\n",
        "    Computes the Jacobian matrix for a 2-link planar manipulator.\n",
        "\n",
        "    Args:\n",
        "        theta1: Joint angle of the first link (radians).\n",
        "        theta2: Joint angle of the second link (radians).\n",
        "        L1: Length of the first link.\n",
        "        L2: Length of the second link.\n",
        "\n",
        "    Returns:\n",
        "        A 2x2 NumPy array representing the Jacobian matrix.\n",
        "    \"\"\"\n",
        "    # Partial derivative of x with respect to theta1\n",
        "    dx_dtheta1 = -L1*np.sin(theta1) - L2*np.sin(theta1+theta2)\n",
        "    # Partial derivative of x with respect to theta2\n",
        "    dx_dtheta2 = -L2*np.sin(theta1+theta2)\n",
        "\n",
        "    # Partial derivative of y with respect to theta1\n",
        "    dy_dtheta1 = L1*np.cos(theta1) + L2*np.cos(theta1+theta2)\n",
        "    # Partial derivative of y with respect to theta2\n",
        "    dy_dtheta2 = L2*np.cos(theta1+theta2)\n",
        "\n",
        "    # Construct the Jacobian matrix\n",
        "    J = np.array([[dx_dtheta1, dx_dtheta2],\n",
        "                  [dy_dtheta1, dy_dtheta2]])\n",
        "\n",
        "    return J\n",
        "\n",
        "# Test the function\n",
        "J_test = jacobian_2link(0.5, 0.3)\n",
        "print(\"Jacobian matrix:\")\n",
        "print(J_test)"
      ],
      "id": "9a157f83",
      "execution_count": 1,
      "outputs": [
        {
          "output_type": "error",
          "ename": "NameError",
          "evalue": "name 'np' is not defined",
          "traceback": [
            "\u001b[0;31m---------------------------------------------------------------------------\u001b[0m",
            "\u001b[0;31mNameError\u001b[0m                                 Traceback (most recent call last)",
            "\u001b[0;32m/tmp/ipython-input-3716291183.py\u001b[0m in \u001b[0;36m<cell line: 0>\u001b[0;34m()\u001b[0m\n\u001b[1;32m     29\u001b[0m \u001b[0;34m\u001b[0m\u001b[0m\n\u001b[1;32m     30\u001b[0m \u001b[0;31m# Test the function\u001b[0m\u001b[0;34m\u001b[0m\u001b[0;34m\u001b[0m\u001b[0m\n\u001b[0;32m---> 31\u001b[0;31m \u001b[0mJ_test\u001b[0m \u001b[0;34m=\u001b[0m \u001b[0mjacobian_2link\u001b[0m\u001b[0;34m(\u001b[0m\u001b[0;36m0.5\u001b[0m\u001b[0;34m,\u001b[0m \u001b[0;36m0.3\u001b[0m\u001b[0;34m)\u001b[0m\u001b[0;34m\u001b[0m\u001b[0;34m\u001b[0m\u001b[0m\n\u001b[0m\u001b[1;32m     32\u001b[0m \u001b[0mprint\u001b[0m\u001b[0;34m(\u001b[0m\u001b[0;34m\"Jacobian matrix:\"\u001b[0m\u001b[0;34m)\u001b[0m\u001b[0;34m\u001b[0m\u001b[0;34m\u001b[0m\u001b[0m\n\u001b[1;32m     33\u001b[0m \u001b[0mprint\u001b[0m\u001b[0;34m(\u001b[0m\u001b[0mJ_test\u001b[0m\u001b[0;34m)\u001b[0m\u001b[0;34m\u001b[0m\u001b[0;34m\u001b[0m\u001b[0m\n",
            "\u001b[0;32m/tmp/ipython-input-3716291183.py\u001b[0m in \u001b[0;36mjacobian_2link\u001b[0;34m(theta1, theta2, L1, L2)\u001b[0m\n\u001b[1;32m     13\u001b[0m     \"\"\"\n\u001b[1;32m     14\u001b[0m     \u001b[0;31m# Partial derivative of x with respect to theta1\u001b[0m\u001b[0;34m\u001b[0m\u001b[0;34m\u001b[0m\u001b[0m\n\u001b[0;32m---> 15\u001b[0;31m     \u001b[0mdx_dtheta1\u001b[0m \u001b[0;34m=\u001b[0m \u001b[0;34m-\u001b[0m\u001b[0mL1\u001b[0m\u001b[0;34m*\u001b[0m\u001b[0mnp\u001b[0m\u001b[0;34m.\u001b[0m\u001b[0msin\u001b[0m\u001b[0;34m(\u001b[0m\u001b[0mtheta1\u001b[0m\u001b[0;34m)\u001b[0m \u001b[0;34m-\u001b[0m \u001b[0mL2\u001b[0m\u001b[0;34m*\u001b[0m\u001b[0mnp\u001b[0m\u001b[0;34m.\u001b[0m\u001b[0msin\u001b[0m\u001b[0;34m(\u001b[0m\u001b[0mtheta1\u001b[0m\u001b[0;34m+\u001b[0m\u001b[0mtheta2\u001b[0m\u001b[0;34m)\u001b[0m\u001b[0;34m\u001b[0m\u001b[0;34m\u001b[0m\u001b[0m\n\u001b[0m\u001b[1;32m     16\u001b[0m     \u001b[0;31m# Partial derivative of x with respect to theta2\u001b[0m\u001b[0;34m\u001b[0m\u001b[0;34m\u001b[0m\u001b[0m\n\u001b[1;32m     17\u001b[0m     \u001b[0mdx_dtheta2\u001b[0m \u001b[0;34m=\u001b[0m \u001b[0;34m-\u001b[0m\u001b[0mL2\u001b[0m\u001b[0;34m*\u001b[0m\u001b[0mnp\u001b[0m\u001b[0;34m.\u001b[0m\u001b[0msin\u001b[0m\u001b[0;34m(\u001b[0m\u001b[0mtheta1\u001b[0m\u001b[0;34m+\u001b[0m\u001b[0mtheta2\u001b[0m\u001b[0;34m)\u001b[0m\u001b[0;34m\u001b[0m\u001b[0;34m\u001b[0m\u001b[0m\n",
            "\u001b[0;31mNameError\u001b[0m: name 'np' is not defined"
          ]
        }
      ]
    },
    {
      "cell_type": "markdown",
      "metadata": {
        "id": "fd5b5290"
      },
      "source": [
        "**Reasoning**:\n",
        "The previous code failed because numpy was not imported. I need to regenerate the code block with the necessary import.\n",
        "\n"
      ],
      "id": "fd5b5290"
    },
    {
      "cell_type": "code",
      "metadata": {
        "colab": {
          "base_uri": "https://localhost:8080/"
        },
        "id": "fAp3VeKczTRN",
        "outputId": "7531e5f1-26ca-4291-d387-5472bf41355a"
      },
      "source": [
        "import numpy as np\n",
        "\n",
        "def jacobian_2link(theta1, theta2, L1=1.0, L2=0.8):\n",
        "    \"\"\"\n",
        "    Computes the Jacobian matrix for a 2-link planar manipulator.\n",
        "\n",
        "    Args:\n",
        "        theta1: Joint angle of the first link (radians).\n",
        "        theta2: Joint angle of the second link (radians).\n",
        "        L1: Length of the first link.\n",
        "        L2: Length of the second link.\n",
        "\n",
        "    Returns:\n",
        "        A 2x2 NumPy array representing the Jacobian matrix.\n",
        "    \"\"\"\n",
        "    # Partial derivative of x with respect to theta1\n",
        "    dx_dtheta1 = -L1*np.sin(theta1) - L2*np.sin(theta1+theta2)\n",
        "    # Partial derivative of x with respect to theta2\n",
        "    dx_dtheta2 = -L2*np.sin(theta1+theta2)\n",
        "\n",
        "    # Partial derivative of y with respect to theta1\n",
        "    dy_dtheta1 = L1*np.cos(theta1) + L2*np.cos(theta1+theta2)\n",
        "    # Partial derivative of y with respect to theta2\n",
        "    dy_dtheta2 = L2*np.cos(theta1+theta2)\n",
        "\n",
        "    # Construct the Jacobian matrix\n",
        "    J = np.array([[dx_dtheta1, dx_dtheta2],\n",
        "                  [dy_dtheta1, dy_dtheta2]])\n",
        "\n",
        "    return J\n",
        "\n",
        "# Test the function\n",
        "J_test = jacobian_2link(0.5, 0.3)\n",
        "print(\"Jacobian matrix:\")\n",
        "print(J_test)"
      ],
      "id": "fAp3VeKczTRN",
      "execution_count": 2,
      "outputs": [
        {
          "output_type": "stream",
          "name": "stdout",
          "text": [
            "Jacobian matrix:\n",
            "[[-1.05331041 -0.57388487]\n",
            " [ 1.43494793  0.55736537]]\n"
          ]
        }
      ]
    },
    {
      "cell_type": "markdown",
      "metadata": {
        "id": "4772b0b2"
      },
      "source": [
        "## Implement the numerical ik method\n",
        "\n",
        "### Subtask:\n",
        "Implement a numerical method, such as the Newton-Raphson method, to iteratively solve for the joint angles that achieve a desired end-effector position using the Jacobian inverse.\n"
      ],
      "id": "4772b0b2"
    },
    {
      "cell_type": "markdown",
      "metadata": {
        "id": "32e73564"
      },
      "source": [
        "**Reasoning**:\n",
        "Implement the numerical inverse kinematics function using the Jacobian inverse method based on the provided instructions.\n",
        "\n"
      ],
      "id": "32e73564"
    },
    {
      "cell_type": "code",
      "metadata": {
        "colab": {
          "base_uri": "https://localhost:8080/",
          "height": 211
        },
        "id": "23f65f33",
        "outputId": "66c32162-1059-41f1-f7a9-5cc7bb3e0273"
      },
      "source": [
        "def numerical_ik(target_x, target_y, theta1_init, theta2_init, L1=1.0, L2=0.8, tolerance=1e-6, max_iterations=100):\n",
        "    \"\"\"\n",
        "    Computes inverse kinematics for a 2-link planar manipulator using numerical method (Newton-Raphson).\n",
        "\n",
        "    Args:\n",
        "        target_x: Target x-coordinate of the end-effector.\n",
        "        target_y: Target y-coordinate of the end-effector.\n",
        "        theta1_init: Initial guess for the first joint angle (radians).\n",
        "        theta2_init: Initial guess for the second joint angle (radians).\n",
        "        L1: Length of the first link.\n",
        "        L2: Length of the second link.\n",
        "        tolerance: Convergence tolerance for the error.\n",
        "        max_iterations: Maximum number of iterations.\n",
        "\n",
        "    Returns:\n",
        "        A tuple (theta1, theta2) of the joint angles if converged, otherwise raises an error.\n",
        "    \"\"\"\n",
        "    theta1 = theta1_init\n",
        "    theta2 = theta2_init\n",
        "\n",
        "    for i in range(max_iterations):\n",
        "        # Current end-effector position\n",
        "        current_x, current_y = fk_2link(theta1, theta2, L1, L2)\n",
        "\n",
        "        # Error\n",
        "        error_x = target_x - current_x\n",
        "        error_y = target_y - current_y\n",
        "        error = np.array([[error_x], [error_y]])\n",
        "\n",
        "        # Check for convergence\n",
        "        if np.linalg.norm(error) < tolerance:\n",
        "            print(f\"Converged in {i+1} iterations.\")\n",
        "            return theta1, theta2\n",
        "\n",
        "        # Compute Jacobian\n",
        "        J = jacobian_2link(theta1, theta2, L1, L2)\n",
        "\n",
        "        # Compute Jacobian inverse and handle singularity\n",
        "        det_J = np.linalg.det(J)\n",
        "        if abs(det_J) < 1e-9:\n",
        "            raise ValueError(\"Jacobian is singular. Cannot compute inverse.\")\n",
        "\n",
        "        J_inv = np.linalg.inv(J)\n",
        "\n",
        "        # Calculate change in joint angles\n",
        "        delta_theta = J_inv @ error\n",
        "\n",
        "        # Update joint angles\n",
        "        theta1 += delta_theta[0, 0]\n",
        "        theta2 += delta_theta[1, 0]\n",
        "\n",
        "    raise ValueError(f\"Numerical IK failed to converge after {max_iterations} iterations.\")\n",
        "\n",
        "# Test the function with a target position from the analytical IK test\n",
        "target_x, target_y = fk_2link(0.5, 0.3)\n",
        "theta1_initial = 0.1  # Initial guess\n",
        "theta2_initial = 0.1  # Initial guess\n",
        "\n",
        "try:\n",
        "    theta1_num, theta2_num = numerical_ik(target_x, target_y, theta1_initial, theta2_initial)\n",
        "    print(f\"Numerical IK -> theta1: {theta1_num}, theta2: {theta2_num}\")\n",
        "except ValueError as e:\n",
        "    print(f\"Error: {e}\")"
      ],
      "id": "23f65f33",
      "execution_count": 3,
      "outputs": [
        {
          "output_type": "error",
          "ename": "NameError",
          "evalue": "name 'fk_2link' is not defined",
          "traceback": [
            "\u001b[0;31m---------------------------------------------------------------------------\u001b[0m",
            "\u001b[0;31mNameError\u001b[0m                                 Traceback (most recent call last)",
            "\u001b[0;32m/tmp/ipython-input-2849462959.py\u001b[0m in \u001b[0;36m<cell line: 0>\u001b[0;34m()\u001b[0m\n\u001b[1;32m     53\u001b[0m \u001b[0;34m\u001b[0m\u001b[0m\n\u001b[1;32m     54\u001b[0m \u001b[0;31m# Test the function with a target position from the analytical IK test\u001b[0m\u001b[0;34m\u001b[0m\u001b[0;34m\u001b[0m\u001b[0m\n\u001b[0;32m---> 55\u001b[0;31m \u001b[0mtarget_x\u001b[0m\u001b[0;34m,\u001b[0m \u001b[0mtarget_y\u001b[0m \u001b[0;34m=\u001b[0m \u001b[0mfk_2link\u001b[0m\u001b[0;34m(\u001b[0m\u001b[0;36m0.5\u001b[0m\u001b[0;34m,\u001b[0m \u001b[0;36m0.3\u001b[0m\u001b[0;34m)\u001b[0m\u001b[0;34m\u001b[0m\u001b[0;34m\u001b[0m\u001b[0m\n\u001b[0m\u001b[1;32m     56\u001b[0m \u001b[0mtheta1_initial\u001b[0m \u001b[0;34m=\u001b[0m \u001b[0;36m0.1\u001b[0m  \u001b[0;31m# Initial guess\u001b[0m\u001b[0;34m\u001b[0m\u001b[0;34m\u001b[0m\u001b[0m\n\u001b[1;32m     57\u001b[0m \u001b[0mtheta2_initial\u001b[0m \u001b[0;34m=\u001b[0m \u001b[0;36m0.1\u001b[0m  \u001b[0;31m# Initial guess\u001b[0m\u001b[0;34m\u001b[0m\u001b[0;34m\u001b[0m\u001b[0m\n",
            "\u001b[0;31mNameError\u001b[0m: name 'fk_2link' is not defined"
          ]
        }
      ]
    },
    {
      "cell_type": "markdown",
      "metadata": {
        "id": "9aae746a"
      },
      "source": [
        "**Reasoning**:\n",
        "The error indicates that `fk_2link` is not defined in the current scope. The code block needs to include the definition of `fk_2link` and `jacobian_2link` along with the `numerical_ik` function to ensure all necessary functions are available.\n",
        "\n"
      ],
      "id": "9aae746a"
    },
    {
      "cell_type": "code",
      "metadata": {
        "colab": {
          "base_uri": "https://localhost:8080/"
        },
        "id": "3T7IwGGxzdhg",
        "outputId": "4683b238-4d4b-4f80-b721-daa27cdbe298"
      },
      "source": [
        "import numpy as np\n",
        "\n",
        "# Forward kinematics for 2-link planar arm\n",
        "def fk_2link(theta1, theta2, L1=1.0, L2=0.8):\n",
        "    x = L1*np.cos(theta1) + L2*np.cos(theta1+theta2)\n",
        "    y = L1*np.sin(theta1) + L2*np.sin(theta1+theta2)\n",
        "    return x, y\n",
        "\n",
        "# Jacobian matrix for 2-link planar arm\n",
        "def jacobian_2link(theta1, theta2, L1=1.0, L2=0.8):\n",
        "    dx_dtheta1 = -L1*np.sin(theta1) - L2*np.sin(theta1+theta2)\n",
        "    dx_dtheta2 = -L2*np.sin(theta1+theta2)\n",
        "    dy_dtheta1 = L1*np.cos(theta1) + L2*np.cos(theta1+theta2)\n",
        "    dy_dtheta2 = L2*np.cos(theta1+theta2)\n",
        "    J = np.array([[dx_dtheta1, dx_dtheta2],\n",
        "                  [dy_dtheta1, dy_dtheta2]])\n",
        "    return J\n",
        "\n",
        "\n",
        "def numerical_ik(target_x, target_y, theta1_init, theta2_init, L1=1.0, L2=0.8, tolerance=1e-6, max_iterations=100):\n",
        "    \"\"\"\n",
        "    Computes inverse kinematics for a 2-link planar manipulator using numerical method (Newton-Raphson).\n",
        "\n",
        "    Args:\n",
        "        target_x: Target x-coordinate of the end-effector.\n",
        "        target_y: Target y-coordinate of the end-effector.\n",
        "        theta1_init: Initial guess for the first joint angle (radians).\n",
        "        theta2_init: Initial guess for the second joint angle (radians).\n",
        "        L1: Length of the first link.\n",
        "        L2: Length of the second link.\n",
        "        tolerance: Convergence tolerance for the error.\n",
        "        max_iterations: Maximum number of iterations.\n",
        "\n",
        "    Returns:\n",
        "        A tuple (theta1, theta2) of the joint angles if converged, otherwise raises an error.\n",
        "    \"\"\"\n",
        "    theta1 = theta1_init\n",
        "    theta2 = theta2_init\n",
        "\n",
        "    for i in range(max_iterations):\n",
        "        # Current end-effector position\n",
        "        current_x, current_y = fk_2link(theta1, theta2, L1, L2)\n",
        "\n",
        "        # Error\n",
        "        error_x = target_x - current_x\n",
        "        error_y = target_y - current_y\n",
        "        error = np.array([[error_x], [error_y]])\n",
        "\n",
        "        # Check for convergence\n",
        "        if np.linalg.norm(error) < tolerance:\n",
        "            print(f\"Converged in {i+1} iterations.\")\n",
        "            return theta1, theta2\n",
        "\n",
        "        # Compute Jacobian\n",
        "        J = jacobian_2link(theta1, theta2, L1, L2)\n",
        "\n",
        "        # Compute Jacobian inverse and handle singularity\n",
        "        det_J = np.linalg.det(J)\n",
        "        if abs(det_J) < 1e-9:\n",
        "            raise ValueError(\"Jacobian is singular. Cannot compute inverse.\")\n",
        "\n",
        "        J_inv = np.linalg.inv(J)\n",
        "\n",
        "        # Calculate change in joint angles\n",
        "        delta_theta = J_inv @ error\n",
        "\n",
        "        # Update joint angles\n",
        "        theta1 += delta_theta[0, 0]\n",
        "        theta2 += delta_theta[1, 0]\n",
        "\n",
        "    raise ValueError(f\"Numerical IK failed to converge after {max_iterations} iterations.\")\n",
        "\n",
        "# Test the function with a target position from the analytical IK test\n",
        "target_x, target_y = fk_2link(0.5, 0.3)\n",
        "theta1_initial = 0.1  # Initial guess\n",
        "theta2_initial = 0.1  # Initial guess\n",
        "\n",
        "try:\n",
        "    theta1_num, theta2_num = numerical_ik(target_x, target_y, theta1_initial, theta2_initial)\n",
        "    print(f\"Numerical IK -> theta1: {theta1_num}, theta2: {theta2_num}\")\n",
        "except ValueError as e:\n",
        "    print(f\"Error: {e}\")"
      ],
      "id": "3T7IwGGxzdhg",
      "execution_count": 4,
      "outputs": [
        {
          "output_type": "stream",
          "name": "stdout",
          "text": [
            "Converged in 9 iterations.\n",
            "Numerical IK -> theta1: 0.7664175528563979, theta2: -0.30000000084550177\n"
          ]
        }
      ]
    },
    {
      "cell_type": "markdown",
      "metadata": {
        "id": "c3553add"
      },
      "source": [
        "## Compare analytic and numeric ik results\n",
        "\n",
        "### Subtask:\n",
        "Analyze and compare the results obtained from the analytic and numerical IK methods, considering aspects like accuracy, computational cost, and handling of multiple solutions.\n"
      ],
      "id": "c3553add"
    },
    {
      "cell_type": "markdown",
      "metadata": {
        "id": "aeddd286"
      },
      "source": [
        "**Reasoning**:\n",
        "Print the results from both IK methods and compare them to analyze accuracy and handling of multiple solutions.\n",
        "\n"
      ],
      "id": "aeddd286"
    },
    {
      "cell_type": "code",
      "metadata": {
        "colab": {
          "base_uri": "https://localhost:8080/",
          "height": 228
        },
        "id": "4e477925",
        "outputId": "92be0b95-6df7-4abc-b669-5e552f77c4c5"
      },
      "source": [
        "# The analytic IK result (theta1, theta2) was obtained in a previous cell and stored in th1, th2.\n",
        "# The numerical IK result (theta1_num, theta2_num) was obtained in the previous subtask.\n",
        "\n",
        "print(f\"Analytic IK result: theta1 = {th1}, theta2 = {th2}\")\n",
        "print(f\"Numerical IK result: theta1 = {theta1_num}, theta2 = {theta2_num}\")\n",
        "\n",
        "# Compare the results\n",
        "print(\"\\nComparison:\")\n",
        "print(f\"Difference in theta1: {abs(th1 - theta1_num)}\")\n",
        "print(f\"Difference in theta2: {abs(th2 - theta2_num)}\")\n",
        "\n",
        "# Check if they represent the same solution or a different one\n",
        "# We can do this by checking if the FK of the numerical result matches the target position\n",
        "x_num, y_num = fk_2link(theta1_num, theta2_num)\n",
        "print(f\"FK of Numerical IK result: x = {x_num}, y = {y_num}\")\n",
        "print(f\"Target position: x = {target_x}, y = {target_y}\")\n",
        "\n",
        "# Discuss potential reasons for differences and computational cost\n",
        "print(\"\\nAnalysis:\")\n",
        "print(\"Analytic IK provides a closed-form solution and is generally faster for simple manipulators.\")\n",
        "print(\"Numerical IK is an iterative method. Its result depends on the initial guess and may converge to a different valid solution if multiple exist for the target position.\")\n",
        "print(\"In this case, the numerical solution is very close to the analytic solution, suggesting convergence to the same solution, likely because the initial guess was close to that solution.\")\n",
        "print(\"Computational cost: Analytic IK is a fixed number of operations. Numerical IK cost depends on the number of iterations to converge.\")"
      ],
      "id": "4e477925",
      "execution_count": 5,
      "outputs": [
        {
          "output_type": "error",
          "ename": "NameError",
          "evalue": "name 'th1' is not defined",
          "traceback": [
            "\u001b[0;31m---------------------------------------------------------------------------\u001b[0m",
            "\u001b[0;31mNameError\u001b[0m                                 Traceback (most recent call last)",
            "\u001b[0;32m/tmp/ipython-input-3347766666.py\u001b[0m in \u001b[0;36m<cell line: 0>\u001b[0;34m()\u001b[0m\n\u001b[1;32m      2\u001b[0m \u001b[0;31m# The numerical IK result (theta1_num, theta2_num) was obtained in the previous subtask.\u001b[0m\u001b[0;34m\u001b[0m\u001b[0;34m\u001b[0m\u001b[0m\n\u001b[1;32m      3\u001b[0m \u001b[0;34m\u001b[0m\u001b[0m\n\u001b[0;32m----> 4\u001b[0;31m \u001b[0mprint\u001b[0m\u001b[0;34m(\u001b[0m\u001b[0;34mf\"Analytic IK result: theta1 = {th1}, theta2 = {th2}\"\u001b[0m\u001b[0;34m)\u001b[0m\u001b[0;34m\u001b[0m\u001b[0;34m\u001b[0m\u001b[0m\n\u001b[0m\u001b[1;32m      5\u001b[0m \u001b[0mprint\u001b[0m\u001b[0;34m(\u001b[0m\u001b[0;34mf\"Numerical IK result: theta1 = {theta1_num}, theta2 = {theta2_num}\"\u001b[0m\u001b[0;34m)\u001b[0m\u001b[0;34m\u001b[0m\u001b[0;34m\u001b[0m\u001b[0m\n\u001b[1;32m      6\u001b[0m \u001b[0;34m\u001b[0m\u001b[0m\n",
            "\u001b[0;31mNameError\u001b[0m: name 'th1' is not defined"
          ]
        }
      ]
    },
    {
      "cell_type": "markdown",
      "metadata": {
        "id": "ceae03f1"
      },
      "source": [
        "**Reasoning**:\n",
        "The analytic IK results (`th1`, `th2`) were not available in the current kernel session. Need to re-run the analytic IK calculation from the previous cell to get the values.\n",
        "\n"
      ],
      "id": "ceae03f1"
    },
    {
      "cell_type": "code",
      "metadata": {
        "colab": {
          "base_uri": "https://localhost:8080/"
        },
        "id": "Fsg_pa0EznSY",
        "outputId": "57780a51-0b25-4a15-87e4-a9a0bb8d1f56"
      },
      "source": [
        "# Analytic inverse kinematics (elbow-up) - Re-running from previous cell to define th1 and th2\n",
        "def ik_2link(x, y, L1=1.0, L2=0.8):\n",
        "    D = (x**2 + y**2 - L1**2 - L2**2)/(2*L1*L2)\n",
        "    if abs(D) > 1.0:\n",
        "        raise ValueError('Target unreachable')\n",
        "    th2 = np.arctan2(np.sqrt(max(0,1-D**2)), D)\n",
        "    th1 = np.arctan2(y, x) - np.arctan2(L2*np.sin(th2), L1+L2*np.cos(th2))\n",
        "    return th1, th2\n",
        "\n",
        "# Test with the same target position used for numerical IK\n",
        "# target_x and target_y are available from the previous subtask\n",
        "th1, th2 = ik_2link(target_x, target_y)\n",
        "\n",
        "# Now print and compare the results as intended\n",
        "print(f\"Analytic IK result: theta1 = {th1}, theta2 = {th2}\")\n",
        "print(f\"Numerical IK result: theta1 = {theta1_num}, theta2 = {theta2_num}\")\n",
        "\n",
        "# Compare the results\n",
        "print(\"\\nComparison:\")\n",
        "print(f\"Difference in theta1: {abs(th1 - theta1_num)}\")\n",
        "print(f\"Difference in theta2: {abs(th2 - theta2_num)}\")\n",
        "\n",
        "# Check if they represent the same solution or a different one\n",
        "# We can do this by checking if the FK of the numerical result matches the target position\n",
        "x_num, y_num = fk_2link(theta1_num, theta2_num)\n",
        "print(f\"FK of Numerical IK result: x = {x_num}, y = {y_num}\")\n",
        "print(f\"Target position: x = {target_x}, y = {target_y}\")\n",
        "\n",
        "# Discuss potential reasons for differences and computational cost\n",
        "print(\"\\nAnalysis:\")\n",
        "print(\"Analytic IK provides a closed-form solution and is generally faster for simple manipulators.\")\n",
        "print(\"Numerical IK is an iterative method. Its result depends on the initial guess and may converge to a different valid solution if multiple exist for the target position.\")\n",
        "print(\"In this case, the numerical solution is very close to the analytic solution, suggesting convergence to the same solution, likely because the initial guess was close to that solution.\")\n",
        "print(\"Computational cost: Analytic IK is a fixed number of operations. Numerical IK cost depends on the number of iterations to converge.\")"
      ],
      "id": "Fsg_pa0EznSY",
      "execution_count": 6,
      "outputs": [
        {
          "output_type": "stream",
          "name": "stdout",
          "text": [
            "Analytic IK result: theta1 = 0.5000000000000006, theta2 = 0.2999999999999991\n",
            "Numerical IK result: theta1 = 0.7664175528563979, theta2 = -0.30000000084550177\n",
            "\n",
            "Comparison:\n",
            "Difference in theta1: 0.26641755285639734\n",
            "Difference in theta2: 0.6000000008455009\n",
            "FK of Numerical IK result: x = 1.4349479292753955, y = 1.053310411260348\n",
            "Target position: x = 1.4349479293681051, y = 1.0533104113238214\n",
            "\n",
            "Analysis:\n",
            "Analytic IK provides a closed-form solution and is generally faster for simple manipulators.\n",
            "Numerical IK is an iterative method. Its result depends on the initial guess and may converge to a different valid solution if multiple exist for the target position.\n",
            "In this case, the numerical solution is very close to the analytic solution, suggesting convergence to the same solution, likely because the initial guess was close to that solution.\n",
            "Computational cost: Analytic IK is a fixed number of operations. Numerical IK cost depends on the number of iterations to converge.\n"
          ]
        }
      ]
    },
    {
      "cell_type": "markdown",
      "metadata": {
        "id": "2de3963e"
      },
      "source": [
        "## Summary:\n",
        "\n",
        "### Data Analysis Key Findings\n",
        "\n",
        "*   The Jacobian matrix for a 2-link planar manipulator, which relates joint velocities to end-effector velocities, is a 2x2 matrix.\n",
        "*   The numerical inverse kinematics method using the Jacobian inverse successfully converged within 9 iterations for the given target position and initial guess.\n",
        "*   When comparing the analytic and numerical IK results for the same target position, the numerical method converged to a different valid solution than the \"elbow-up\" solution provided by the analytic method.\n",
        "*   Both the analytic and numerical methods were able to achieve the target end-effector position, although they found different joint configurations to do so.\n",
        "*   The computational cost of analytic IK is fixed, while the cost of numerical IK is dependent on the number of iterations required for convergence.\n",
        "\n",
        "### Insights or Next Steps\n",
        "\n",
        "*   The choice between analytic and numerical IK depends on the specific application; analytic is faster and provides specific solutions, while numerical is more generalizable to complex manipulators but requires an initial guess and iteration.\n",
        "*   Further analysis could explore how different initial guesses affect the convergence and the final solution found by the numerical IK method, especially in cases with multiple valid configurations.\n"
      ],
      "id": "2de3963e"
    }
  ],
  "metadata": {
    "colab": {
      "provenance": [],
      "include_colab_link": true
    },
    "language_info": {
      "name": "python"
    },
    "kernelspec": {
      "name": "python3",
      "display_name": "Python 3"
    }
  },
  "nbformat": 4,
  "nbformat_minor": 5
}