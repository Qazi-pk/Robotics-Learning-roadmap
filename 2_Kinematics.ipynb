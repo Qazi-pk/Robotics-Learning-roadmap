{
 "cells": [
  {
   "cell_type": "markdown",
   "id": "2ca01415",
   "metadata": {},
   "source": [
    "# Week 2 — Forward & Inverse Kinematics\n",
    "\n",
    "**Learning objectives:**\n",
    "- Derive forward kinematics for a planar 2-link manipulator.\n",
    "- Compute analytic inverse kinematics and understand multiple solutions.\n",
    "\n",
    "---"
   ]
  },
  {
   "cell_type": "code",
   "execution_count": null,
   "id": "f59ad6d5",
   "metadata": {},
   "outputs": [],
   "source": [
    "import numpy as np\n",
    "import matplotlib.pyplot as plt\n",
    "\n",
    "# Forward kinematics for 2-link planar arm\n",
    "def fk_2link(theta1, theta2, L1=1.0, L2=0.8):\n",
    "    x = L1*np.cos(theta1) + L2*np.cos(theta1+theta2)\n",
    "    y = L1*np.sin(theta1) + L2*np.sin(theta1+theta2)\n",
    "    return x, y\n",
    "\n",
    "# Analytic inverse kinematics (elbow-up)\n",
    "def ik_2link(x, y, L1=1.0, L2=0.8):\n",
    "    D = (x**2 + y**2 - L1**2 - L2**2)/(2*L1*L2)\n",
    "    if abs(D) > 1.0:\n",
    "        raise ValueError('Target unreachable')\n",
    "    th2 = np.arctan2(np.sqrt(max(0,1-D**2)), D)\n",
    "    th1 = np.arctan2(y, x) - np.arctan2(L2*np.sin(th2), L1+L2*np.cos(th2))\n",
    "    return th1, th2\n",
    "\n",
    "# Test\n",
    "x,y = fk_2link(0.5, 0.3)\n",
    "print('FK ->', x, y)\n",
    "th1,th2 = ik_2link(x,y)\n",
    "print('Recovered IK ->', th1, th2)\n"
   ]
  },
  {
   "cell_type": "markdown",
   "id": "8fe98815",
   "metadata": {},
   "source": [
    "### Exercises\n",
    "- Plot workspace and reachable region.\n",
    "- Implement numerical IK (Newton) using Jacobian inverse.\n",
    "- Compare analytic and numeric IK results."
   ]
  }
 ],
 "metadata": {},
 "nbformat": 4,
 "nbformat_minor": 5
}
