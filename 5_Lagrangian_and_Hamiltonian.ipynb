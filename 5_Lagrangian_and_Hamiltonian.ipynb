{
 "cells": [
  {
   "cell_type": "markdown",
   "id": "b0864f56",
   "metadata": {},
   "source": [
    "# Week 5 — Lagrangian & Hamiltonian Mechanics\n",
    "\n",
    "**Learning objectives:**\n",
    "- Write Lagrangian and derive Euler–Lagrange equations.\n",
    "- Formulate Hamiltonian for conservative systems and plot phase portraits.\n",
    "\n",
    "---"
   ]
  },
  {
   "cell_type": "code",
   "execution_count": null,
   "id": "b1d57334",
   "metadata": {},
   "outputs": [],
   "source": [
    "import sympy as sp\n",
    "t = sp.symbols('t')\n",
    "th = sp.Function('th')(t)\n",
    "m,l,g = sp.symbols('m l g', positive=True)\n",
    "th_dot = sp.diff(th, t)\n",
    "T = sp.Rational(1,2)*m*(l**2)*(th_dot**2)\n",
    "V = m*g*l*(1-sp.cos(th))\n",
    "L = T - V\n",
    "EL = sp.simplify(sp.diff(sp.diff(L, th_dot), t) - sp.diff(L, th))\n",
    "sp.pprint(EL)\n"
   ]
  },
  {
   "cell_type": "markdown",
   "id": "52d18b46",
   "metadata": {},
   "source": [
    "### Exercises\n",
    "- Simulate pendulum phase portraits using Hamiltonian variables (q,p).\n",
    "- Extend Lagrangian derivation to 2-link manipulator and compare."
   ]
  }
 ],
 "metadata": {},
 "nbformat": 4,
 "nbformat_minor": 5
}
