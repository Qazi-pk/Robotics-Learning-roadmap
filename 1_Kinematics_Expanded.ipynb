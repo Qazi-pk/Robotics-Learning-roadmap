{
 "cells": [
  {
   "cell_type": "markdown",
   "id": "1c9753cf",
   "metadata": {},
   "source": [
    "# Week 1 — Kinematics (Expanded)\n",
    "\n",
    "**Learning objectives:**\n",
    "- Detailed derivations and interactive simulations.\n",
    "\n"
   ]
  },
  {
   "cell_type": "code",
   "execution_count": null,
   "id": "eb761a41",
   "metadata": {},
   "outputs": [],
   "source": [
    "# Install in Colab if needed:\n",
    "# !pip install sympy numpy scipy matplotlib ipywidgets\n",
    "# --- Auto GitHub token detection (Colab only) ---\n",
    "try:\n",
    "    from google.colab import userdata\n",
    "    import os\n",
    "    if 'GITHUB_TOKEN' in userdata:\n",
    "        token = userdata.get('GITHUB_TOKEN')\n",
    "        os.environ['GITHUB_TOKEN'] = token\n",
    "        print('✅ Loaded GITHUB_TOKEN from Colab secrets.')\n",
    "    else:\n",
    "        print('⚠️ GITHUB_TOKEN not found in Colab secrets. Use userdata.set_secret(\"GITHUB_TOKEN\").')\n",
    "except Exception as e:\n",
    "    print('Not running in Colab or userdata unavailable:', e)\n",
    "\n",
    "# git config sample (uncomment to use)\n",
    "# !git config --global user.name 'YourName'\n",
    "# !git config --global user.email 'you@example.com'"
   ]
  },
  {
   "cell_type": "markdown",
   "id": "1d6525ba",
   "metadata": {},
   "source": [
    "## Rotation matrices and 2-DOF planar forward kinematics (symbolic + numeric)"
   ]
  },
  {
   "cell_type": "code",
   "execution_count": null,
   "id": "b6ac8bd7",
   "metadata": {},
   "outputs": [],
   "source": [
    "import sympy as sp\n",
    "sp.init_printing()\n",
    "q1, q2, l1, l2 = sp.symbols('q1 q2 l1 l2', real=True)\n",
    "x = l1*sp.cos(q1) + l2*sp.cos(q1+q2)\n",
    "y = l1*sp.sin(q1) + l2*sp.sin(q1+q2)\n",
    "J = sp.Matrix([x,y]).jacobian([q1,q2])\n",
    "display(sp.Eq(sp.Matrix([x,y]), sp.Matrix([x,y])))\n",
    "display(sp.simplify(J))"
   ]
  },
  {
   "cell_type": "code",
   "execution_count": null,
   "id": "28236fa3",
   "metadata": {},
   "outputs": [],
   "source": [
    "import numpy as np, matplotlib.pyplot as plt\n",
    "try:\n",
    "    import ipywidgets as widgets\n",
    "    from IPython.display import display\n",
    "    def fk_plot(q1_val,q2_val,L1=1.0,L2=0.8):\n",
    "        x1 = L1*np.cos(q1_val); y1 = L1*np.sin(q1_val)\n",
    "        x2 = x1 + L2*np.cos(q1_val+q2_val); y2 = y1 + L2*np.sin(q1_val+q2_val)\n",
    "        plt.figure(figsize=(4,4)); plt.plot([0,x1,x2],[0,y1,y2],'-o'); plt.xlim(-2,2); plt.ylim(-2,2); plt.grid(True)\n",
    "        plt.gca().set_aspect('equal', 'box'); plt.show()\n",
    "    display(widgets.interactive(fk_plot, q1_val=widgets.FloatSlider(-3.14,3.14,0.01,0.5), q2_val=widgets.FloatSlider(-3.14,3.14,0.01,0.3)))\n",
    "except Exception as e:\n",
    "    print('Widgets not available:', e)"
   ]
  }
 ],
 "metadata": {},
 "nbformat": 4,
 "nbformat_minor": 5
}
