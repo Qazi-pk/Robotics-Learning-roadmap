{
 "cells": [
  {
   "cell_type": "markdown",
   "id": "531f42c9",
   "metadata": {},
   "source": [
    "# Week 3 — Robot Dynamics (Lagrangian overview)\n",
    "\n",
    "**Learning objectives:**\n",
    "- Compute kinetic & potential energy of a 2-link manipulator.\n",
    "- Symbolically derive M(q), C(q,qd), G(q) via SymPy.\n",
    "\n",
    "---"
   ]
  },
  {
   "cell_type": "code",
   "execution_count": null,
   "id": "8f57cf46",
   "metadata": {},
   "outputs": [],
   "source": [
    "import sympy as sp\n",
    "# Symbols\n",
    "q1,q2 = sp.symbols('q1 q2', real=True)\n",
    "dq1,dq2 = sp.symbols('dq1 dq2', real=True)\n",
    "l1,l2,m1,m2,I1,I2,g = sp.symbols('l1 l2 m1 m2 I1 I2 g', positive=True)\n",
    "\n",
    "# Positions of COMs (planar)\n",
    "x1 = (l1/2)*sp.cos(q1)\n",
    "y1 = (l1/2)*sp.sin(q1)\n",
    "x2 = l1*sp.cos(q1) + (l2/2)*sp.cos(q1+q2)\n",
    "y2 = l1*sp.sin(q1) + (l2/2)*sp.sin(q1+q2)\n",
    "\n",
    "# Velocities via Jacobian\n",
    "q = sp.Matrix([q1,q2]); dq = sp.Matrix([dq1,dq2])\n",
    "J1 = sp.Matrix([x1,y1]).jacobian(q)\n",
    "J2 = sp.Matrix([x2,y2]).jacobian(q)\n",
    "v1 = J1 * dq\n",
    "v2 = J2 * dq\n",
    "\n",
    "# Kinetic and potential\n",
    "T1 = sp.Rational(1,2)*m1*(v1.dot(v1)) + sp.Rational(1,2)*I1*dq1**2\n",
    "omega2 = dq1 + dq2\n",
    "T2 = sp.Rational(1,2)*m2*(v2.dot(v2)) + sp.Rational(1,2)*I2*omega2**2\n",
    "T = sp.simplify(T1 + T2)\n",
    "V = m1*g*y1 + m2*g*y2\n",
    "\n",
    "M = sp.zeros(2,2)\n",
    "dqs = [dq1,dq2]; qs = [q1,q2]\n",
    "for i in range(2):\n",
    "    for j in range(2):\n",
    "        M[i,j] = sp.simplify(sp.diff(sp.diff(T, dqs[i]), dqs[j]))\n",
    "\n",
    "G = sp.Matrix([sp.diff(V, qi) for qi in qs])\n",
    "print('Inertia M(q)=')\n",
    "sp.pprint(M)\n",
    "print('\\nGravity G(q)=')\n",
    "sp.pprint(G)\n"
   ]
  },
  {
   "cell_type": "markdown",
   "id": "eea068ef",
   "metadata": {},
   "source": [
    "### Exercises\n",
    "- Lambdify M, C, G and simulate simple PD control.\n",
    "- Derive symbolic Coriolis terms (Christoffel) and verify numerically."
   ]
  }
 ],
 "metadata": {},
 "nbformat": 4,
 "nbformat_minor": 5
}
