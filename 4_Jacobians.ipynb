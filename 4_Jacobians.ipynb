{
 "cells": [
  {
   "cell_type": "markdown",
   "id": "99301903",
   "metadata": {},
   "source": [
    "# Week 4 — Jacobians & Differential Motion\n",
    "\n",
    "**Learning objectives:**\n",
    "- Derive Jacobian for manipulators (linear and angular parts).\n",
    "- Understand manipulability and singularities.\n",
    "\n",
    "---"
   ]
  },
  {
   "cell_type": "code",
   "execution_count": null,
   "id": "a2afa08d",
   "metadata": {},
   "outputs": [],
   "source": [
    "import sympy as sp\n",
    "l1,l2,th1,th2 = sp.symbols('l1 l2 th1 th2', real=True)\n",
    "x = l1*sp.cos(th1) + l2*sp.cos(th1+th2)\n",
    "y = l1*sp.sin(th1) + l2*sp.sin(th1+th2)\n",
    "J = sp.Matrix([x,y]).jacobian([th1,th2])\n",
    "sp.pprint(J)\n",
    "\n",
    "# Numeric example\n",
    "import numpy as np\n",
    "Jn = sp.lambdify((l1,l2,th1,th2), J, 'numpy')\n",
    "print('Numeric J:')\n",
    "print(np.array(Jn(1.0,0.8,0.7,0.3)))\n"
   ]
  },
  {
   "cell_type": "markdown",
   "id": "56d83d9e",
   "metadata": {},
   "source": [
    "### Exercises\n",
    "- Compute manipulability ellipsoid (J J^T eigenvalues).\n",
    "- Explore singular configurations and nullspace motions."
   ]
  }
 ],
 "metadata": {},
 "nbformat": 4,
 "nbformat_minor": 5
}
