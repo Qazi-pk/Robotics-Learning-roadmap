{
 "cells": [
  {
   "cell_type": "markdown",
   "id": "6af173df",
   "metadata": {},
   "source": [
    "# Week 6 — Computer Vision (Expanded)\n",
    "\n",
    "**Learning objectives:**\n",
    "- Detailed derivations and interactive simulations.\n",
    "\n"
   ]
  },
  {
   "cell_type": "code",
   "execution_count": null,
   "id": "8159b655",
   "metadata": {},
   "outputs": [],
   "source": [
    "# Install in Colab if needed:\n",
    "# !pip install sympy numpy scipy matplotlib ipywidgets\n",
    "# --- Auto GitHub token detection (Colab only) ---\n",
    "try:\n",
    "    from google.colab import userdata\n",
    "    import os\n",
    "    if 'GITHUB_TOKEN' in userdata:\n",
    "        token = userdata.get('GITHUB_TOKEN')\n",
    "        os.environ['GITHUB_TOKEN'] = token\n",
    "        print('✅ Loaded GITHUB_TOKEN from Colab secrets.')\n",
    "    else:\n",
    "        print('⚠️ GITHUB_TOKEN not found in Colab secrets. Use userdata.set_secret(\"GITHUB_TOKEN\").')\n",
    "except Exception as e:\n",
    "    print('Not running in Colab or userdata unavailable:', e)\n",
    "\n",
    "# git config sample (uncomment to use)\n",
    "# !git config --global user.name 'YourName'\n",
    "# !git config --global user.email 'you@example.com'"
   ]
  },
  {
   "cell_type": "markdown",
   "id": "441e99df",
   "metadata": {},
   "source": [
    "## Camera model: pinhole projection"
   ]
  },
  {
   "cell_type": "code",
   "execution_count": null,
   "id": "d90fdc4e",
   "metadata": {},
   "outputs": [],
   "source": [
    "import sympy as sp\n",
    "X,Y,Z,f = sp.symbols('X Y Z f', real=True)\n",
    "xp = f*X/Z; yp = f*Y/Z\n",
    "sp.pretty_print(sp.Matrix([xp,yp]))"
   ]
  }
 ],
 "metadata": {},
 "nbformat": 4,
 "nbformat_minor": 5
}
