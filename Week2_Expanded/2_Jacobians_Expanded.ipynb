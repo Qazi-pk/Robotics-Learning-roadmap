{
 "cells": [
  {
   "cell_type": "markdown",
   "id": "49f148a0",
   "metadata": {},
   "source": [
    "# Week 2 — Jacobians (Expanded)\n",
    "\n",
    "**Learning objectives:**\n",
    "- Detailed derivations and interactive simulations.\n",
    "\n"
   ]
  },
  {
   "cell_type": "code",
   "execution_count": null,
   "id": "f1f78644",
   "metadata": {},
   "outputs": [],
   "source": [
    "# Colab: uncomment pip if you need libraries\n",
    "# !pip install sympy numpy scipy matplotlib ipywidgets\n",
    "import sympy as sp\n",
    "import numpy as np\n",
    "import matplotlib.pyplot as plt\n",
    "try:\n",
    "    import ipywidgets as widgets\n",
    "    from IPython.display import display\n",
    "except Exception:\n",
    "    pass\n"
   ]
  },
  {
   "cell_type": "markdown",
   "id": "16ad17a2",
   "metadata": {},
   "source": [
    "## Jacobian derivation and manipulability"
   ]
  },
  {
   "cell_type": "code",
   "execution_count": null,
   "id": "1040bed3",
   "metadata": {},
   "outputs": [],
   "source": [
    "q1, q2 = sp.symbols('q1 q2', real=True)\n",
    "l1, l2 = sp.symbols('l1 l2', positive=True)\n",
    "x = l1*sp.cos(q1) + l2*sp.cos(q1+q2)\n",
    "y = l1*sp.sin(q1) + l2*sp.sin(q1+q2)\n",
    "J = sp.Matrix([x,y]).jacobian([q1,q2])\n",
    "display(J)\n"
   ]
  },
  {
   "cell_type": "code",
   "execution_count": null,
   "id": "04634cc0",
   "metadata": {},
   "outputs": [],
   "source": [
    "def manip_ellipse(q1_val,q2_val,L1=1.0,L2=0.8):\n",
    "    Jn = np.array([[ -L1*np.sin(q1_val)-L2*np.sin(q1_val+q2_val), -L2*np.sin(q1_val+q2_val) ],\n",
    "                   [  L1*np.cos(q1_val)+L2*np.cos(q1_val+q2_val),  L2*np.cos(q1_val+q2_val) ]])\n",
    "    U, S, Vt = np.linalg.svd(Jn @ Jn.T)\n",
    "    theta = np.linspace(0,2*np.pi,100)\n",
    "    ellipse = (U @ np.diag(np.sqrt(S)) @ np.vstack([np.cos(theta), np.sin(theta)]))\n",
    "    plt.figure(figsize=(4,4)); plt.plot(ellipse[0,:], ellipse[1,:]); plt.axis('equal'); plt.grid(True); plt.show()\n",
    "try:\n",
    "    w1 = widgets.FloatSlider(min=-3.14,max=3.14,step=0.01,value=0.5,description='q1')\n",
    "    w2 = widgets.FloatSlider(min=-3.14,max=3.14,step=0.01,value=0.3,description='q2')\n",
    "    display(widgets.interactive(manip_ellipse, q1_val=w1, q2_val=w2))\n",
    "except Exception as e:\n",
    "    print('Widgets not available')"
   ]
  }
 ],
 "metadata": {},
 "nbformat": 4,
 "nbformat_minor": 5
}
