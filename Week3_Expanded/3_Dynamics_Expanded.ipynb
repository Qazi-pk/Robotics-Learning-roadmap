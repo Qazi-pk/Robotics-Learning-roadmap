{
 "cells": [
  {
   "cell_type": "markdown",
   "id": "bdb759c1",
   "metadata": {},
   "source": [
    "# Week 3 — Dynamics (Expanded)\n",
    "\n",
    "**Learning objectives:**\n",
    "- Detailed derivations and interactive simulations.\n",
    "\n"
   ]
  },
  {
   "cell_type": "code",
   "execution_count": null,
   "id": "689cb64d",
   "metadata": {},
   "outputs": [],
   "source": [
    "# Colab: uncomment pip if you need libraries\n",
    "# !pip install sympy numpy scipy matplotlib ipywidgets\n",
    "import sympy as sp\n",
    "import numpy as np\n",
    "import matplotlib.pyplot as plt\n",
    "try:\n",
    "    import ipywidgets as widgets\n",
    "    from IPython.display import display\n",
    "except Exception:\n",
    "    pass\n"
   ]
  },
  {
   "cell_type": "markdown",
   "id": "93b2f59d",
   "metadata": {},
   "source": [
    "## Lagrangian derivation and dynamics simulation"
   ]
  },
  {
   "cell_type": "code",
   "execution_count": null,
   "id": "0f0011a2",
   "metadata": {},
   "outputs": [],
   "source": [
    "q1, q2 = sp.symbols('q1 q2', real=True)\n",
    "dq1, dq2 = sp.symbols('dq1 dq2', real=True)\n",
    "l1, l2, m1, m2, I1, I2, g = sp.symbols('l1 l2 m1 m2 I1 I2 g', positive=True)\n",
    "q = sp.Matrix([q1,q2]); dq = sp.Matrix([dq1,dq2])\n",
    "x1 = (l1/2)*sp.cos(q1); y1 = (l1/2)*sp.sin(q1)\n",
    "x2 = l1*sp.cos(q1) + (l2/2)*sp.cos(q1+q2); y2 = l1*sp.sin(q1) + (l2/2)*sp.sin(q1+q2)\n",
    "J1 = sp.Matrix([x1,y1]).jacobian(q); J2 = sp.Matrix([x2,y2]).jacobian(q)\n",
    "v1 = J1*dq; v2 = J2*dq; omega1 = dq1; omega2 = dq1 + dq2\n",
    "T = sp.simplify(sp.Rational(1,2)*m1*(v1.dot(v1)) + sp.Rational(1,2)*I1*omega1**2 + sp.Rational(1,2)*m2*(v2.dot(v2)) + sp.Rational(1,2)*I2*omega2**2)\n",
    "V = sp.simplify(m1*g*y1 + m2*g*y2)\n",
    "M = sp.zeros(2,2)\n",
    "dqs = [dq1,dq2]; qs=[q1,q2]\n",
    "for ii in range(2):\n",
    "    for jj in range(2):\n",
    "        M[ii,jj] = sp.simplify(sp.diff(sp.diff(T, dqs[ii]), dqs[jj]))\n",
    "display(M)\n"
   ]
  },
  {
   "cell_type": "code",
   "execution_count": null,
   "id": "4797dea3",
   "metadata": {},
   "outputs": [],
   "source": [
    "# Interactive numeric display of inertia matrix\n",
    "M_func = sp.lambdify((q1,q2,l1,l2,m1,m2,I1,I2), M, 'numpy')\n",
    "try:\n",
    "    def show_M(q1_val,q2_val):\n",
    "        print(np.array(M_func(q1_val,q2_val,1.0,0.8,1.0,0.8,0.01,0.01)))\n",
    "    display(widgets.interactive(show_M, q1_val=widgets.FloatSlider(min=-3.14,max=3.14,value=0.2), q2_val=widgets.FloatSlider(min=-3.14,max=3.14,value=0.3)))\n",
    "except Exception:\n",
    "    print('Widgets not available')\n"
   ]
  }
 ],
 "metadata": {},
 "nbformat": 4,
 "nbformat_minor": 5
}
