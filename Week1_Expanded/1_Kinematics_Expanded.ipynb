{
 "cells": [
  {
   "cell_type": "markdown",
   "id": "3ffee7b5",
   "metadata": {},
   "source": [
    "# Week 1 — Kinematics (Expanded)\n",
    "\n",
    "**Learning objectives:**\n",
    "- Detailed derivations and interactive simulations.\n",
    "\n"
   ]
  },
  {
   "cell_type": "code",
   "execution_count": null,
   "id": "caaadda5",
   "metadata": {},
   "outputs": [],
   "source": [
    "# Colab: uncomment pip if you need libraries\n",
    "# !pip install sympy numpy scipy matplotlib ipywidgets\n",
    "import sympy as sp\n",
    "import numpy as np\n",
    "import matplotlib.pyplot as plt\n",
    "try:\n",
    "    import ipywidgets as widgets\n",
    "    from IPython.display import display\n",
    "except Exception:\n",
    "    pass\n"
   ]
  },
  {
   "cell_type": "markdown",
   "id": "6c87d963",
   "metadata": {},
   "source": [
    "## Forward kinematics symbolic derivation and interactive FK plot"
   ]
  },
  {
   "cell_type": "code",
   "execution_count": null,
   "id": "2c0f7c47",
   "metadata": {},
   "outputs": [],
   "source": [
    "q1, q2 = sp.symbols('q1 q2', real=True)\n",
    "l1, l2 = sp.symbols('l1 l2', positive=True)\n",
    "x = l1*sp.cos(q1) + l2*sp.cos(q1+q2)\n",
    "y = l1*sp.sin(q1) + l2*sp.sin(q1+q2)\n",
    "J = sp.Matrix([x,y]).jacobian([q1,q2])\n",
    "print('Jacobian (symbolic):')\n",
    "display(J)\n"
   ]
  },
  {
   "cell_type": "code",
   "execution_count": null,
   "id": "101c9065",
   "metadata": {},
   "outputs": [],
   "source": [
    "def fk_plot(q1_val,q2_val,L1=1.0,L2=0.8):\n",
    "    x1 = L1*np.cos(q1_val); y1 = L1*np.sin(q1_val)\n",
    "    x2 = x1 + L2*np.cos(q1_val+q2_val); y2 = y1 + L2*np.sin(q1_val+q2_val)\n",
    "    plt.figure(figsize=(4,4)); plt.plot([0,x1,x2],[0,y1,y2],'-o'); plt.xlim(-2,2); plt.ylim(-2,2); plt.grid(True)\n",
    "    plt.gca().set_aspect('equal', 'box'); plt.show()\n",
    "try:\n",
    "    w1 = widgets.FloatSlider(min=-3.14,max=3.14,step=0.01,value=0.5,description='q1')\n",
    "    w2 = widgets.FloatSlider(min=-3.14,max=3.14,step=0.01,value=0.3,description='q2')\n",
    "    display(widgets.interactive(fk_plot, q1_val=w1, q2_val=w2))\n",
    "except Exception as e:\n",
    "    print('Interactive widgets may not be available in this environment.')"
   ]
  }
 ],
 "metadata": {},
 "nbformat": 4,
 "nbformat_minor": 5
}
