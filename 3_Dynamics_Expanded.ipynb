{
 "cells": [
  {
   "cell_type": "markdown",
   "id": "50831968",
   "metadata": {},
   "source": [
    "# Week 3 — Robot Dynamics (Expanded)\n",
    "\n",
    "This notebook derives the dynamics of a planar 2-DOF manipulator and demonstrates PD and computed-torque controllers. It uses `robot_utils.py` and `plot_utils.py` included in this folder."
   ]
  },
  {
   "cell_type": "markdown",
   "id": "4c26ace5",
   "metadata": {},
   "source": [
    "## 1) Symbolic derivation (SymPy)"
   ]
  },
  {
   "cell_type": "code",
   "execution_count": null,
   "id": "ac58adcb",
   "metadata": {},
   "outputs": [],
   "source": [
    "# Symbolic derivation of M(q), C(q,dq), G(q)\n",
    "import sympy as sp\n",
    "from robot_utils import make_symbolic_2link\n",
    "s = make_symbolic_2link()\n",
    "q1 = s['q1']; q2 = s['q2']; dq1 = s['dq1']; dq2 = s['dq2']\n",
    "l1 = s['l1']; l2 = s['l2']; m1 = s['m1']; m2 = s['m2']; I1 = s['I1']; I2 = s['I2']; g = s['g']\n",
    "T = s['T']; V = s['V']\n",
    "# Build inertia matrix\n",
    "qs = [q1,q2]; dqs = [dq1,dq2]\n",
    "M = sp.zeros(2,2)\n",
    "for i in range(2):\n",
    "    for j in range(2):\n",
    "        M[i,j] = sp.simplify(sp.diff(sp.diff(T, dqs[i]), dqs[j]))\n",
    "# Christoffel and C\n",
    "Gamma = [[[None for _ in range(2)] for __ in range(2)] for ___ in range(2)]\n",
    "for k in range(2):\n",
    "    for i in range(2):\n",
    "        for j in range(2):\n",
    "            Gamma[k][i][j] = sp.Rational(1,2)*(sp.diff(M[k,j], qs[i]) + sp.diff(M[k,i], qs[j]) - sp.diff(M[i,j], qs[k]))\n",
    "C = sp.zeros(2,2)\n",
    "for i in range(2):\n",
    "    for j in range(2):\n",
    "        ssum = 0\n",
    "        for k in range(2):\n",
    "            ssum += Gamma[i][j][k] * dqs[k]\n",
    "        C[i,j] = sp.simplify(ssum)\n",
    "G = sp.Matrix([sp.diff(V, qi) for qi in qs])\n",
    "\n",
    "M_s = sp.simplify(M)\n",
    "C_s = sp.simplify(C)\n",
    "G_s = sp.simplify(G)\n",
    "\n",
    "print('Derived symbolic M, C, G')\n"
   ]
  },
  {
   "cell_type": "markdown",
   "id": "1ded8df7",
   "metadata": {},
   "source": [
    "## 2) Lambdify and numeric evaluation"
   ]
  },
  {
   "cell_type": "code",
   "execution_count": null,
   "id": "59e3e1cb",
   "metadata": {},
   "outputs": [],
   "source": [
    "# Lambdify\n",
    "from robot_utils import lambdify_dynamics\n",
    "M_f, C_f, G_f = lambdify_dynamics(M_s, C_s, G_s)\n",
    "\n",
    "# numeric test\n",
    "import numpy as np\n",
    "params = dict(l1=1.0, l2=0.8, m1=1.0, m2=0.8, I1=0.01, I2=0.01, g=9.81)\n",
    "qtest = (0.3, 0.4); dqtest = (0.1, -0.2)\n",
    "Mnum = np.array(M_f(qtest[0], qtest[1], params['l1'], params['l2'], params['m1'], params['m2'], params['I1'], params['I2']), dtype=float)\n",
    "Cnum = np.array(C_f(qtest[0], qtest[1], dqtest[0], dqtest[1], params['l1'], params['l2'], params['m1'], params['m2'], params['I1'], params['I2']), dtype=float)\n",
    "Gnum = np.array(G_f(qtest[0], qtest[1], params['l1'], params['l2'], params['m1'], params['m2'], params['g']), dtype=float).reshape(2,)\n",
    "print('M num =', Mnum)\n",
    "print('C num =', Cnum)\n",
    "print('G num =', Gnum)\n"
   ]
  },
  {
   "cell_type": "markdown",
   "id": "344586d9",
   "metadata": {},
   "source": [
    "## 3) PD baseline and computed-torque controller (simulation)"
   ]
  },
  {
   "cell_type": "code",
   "execution_count": null,
   "id": "87494d3c",
   "metadata": {},
   "outputs": [],
   "source": [
    "# Simulation comparing PD and computed-torque controllers\n",
    "import numpy as np\n",
    "from scipy.integrate import solve_ivp\n",
    "from plot_utils import plot_joint_trajectories, plot_end_effector_path\n",
    "\n",
    "p = dict(l1=1.0, l2=0.8, m1=1.0, m2=0.8, I1=0.01, I2=0.01, g=9.81)\n",
    "M_func = lambda qv: np.array(M_f(qv[0], qv[1], p['l1'], p['l2'], p['m1'], p['m2'], p['I1'], p['I2']), dtype=float)\n",
    "C_func = lambda qv,dqv: np.array(C_f(qv[0], qv[1], dqv[0], dqv[1], p['l1'], p['l2'], p['m1'], p['m2'], p['I1'], p['I2']), dtype=float)\n",
    "G_func = lambda qv: np.array(G_f(qv[0], qv[1], p['l1'], p['l2'], p['m1'], p['m2'], p['g']), dtype=float).reshape(2,)\n",
    "\n",
    "# controllers\n",
    "Kp_pd = np.diag([80.,60.]); Kd_pd = np.diag([8.,6.])\n",
    "Kp_ct = np.diag([100.,80.]); Kd_ct = np.diag([20.,15.])\n",
    "q_des = np.array([np.pi/4, np.pi/6]); dq_des = np.array([0.,0.]); ddq_des = np.array([0.,0.])\n",
    "\n",
    "def dyn_pd(t,y):\n",
    "    qv = y[:2]; dqv = y[2:]\n",
    "    M_eval = M_func(qv); C_eval = C_func(qv,dqv); G_eval = G_func(qv)\n",
    "    tau = Kp_pd.dot(q_des - qv) + Kd_pd.dot(dq_des - dqv)\n",
    "    ddq = np.linalg.solve(M_eval, tau - C_eval.dot(dqv) - G_eval)\n",
    "    return np.concatenate((dqv, ddq))\n",
    "\n",
    "def dyn_ct(t,y):\n",
    "    qv = y[:2]; dqv = y[2:]\n",
    "    M_eval = M_func(qv); C_eval = C_func(qv,dqv); G_eval = G_func(qv)\n",
    "    v = ddq_des + Kd_ct.dot(dq_des - dqv) + Kp_ct.dot(q_des - qv)\n",
    "    tau = M_eval.dot(v) + C_eval.dot(dqv) + G_eval\n",
    "    ddq = np.linalg.solve(M_eval, tau - C_eval.dot(dqv) - G_eval)\n",
    "    return np.concatenate((dqv, ddq))\n",
    "\n",
    "y0 = np.zeros(4)\n",
    "T = np.linspace(0,5,400)\n",
    "sol_pd = solve_ivp(dyn_pd, (0,5), y0, t_eval=T)\n",
    "sol_ct = solve_ivp(dyn_ct, (0,5), y0, t_eval=T)\n",
    "\n",
    "# plots\n",
    "plot_joint_trajectories(T, sol_pd.y, labels=('q1 PD','q2 PD'))\n",
    "plot_joint_trajectories(T, sol_ct.y, labels=('q1 CT','q2 CT'))\n",
    "\n",
    "from matplotlib import pyplot as plt\n",
    "plt.show()\n",
    "\n",
    "# end-effector paths\n",
    "plot_end_effector_path(sol_pd.y[:2,:], p['l1'], p['l2'], title='PD End-effector')\n",
    "plot_end_effector_path(sol_ct.y[:2,:], p['l1'], p['l2'], title='Computed-Torque End-effector')\n",
    "plt.show()\n"
   ]
  }
 ],
 "metadata": {},
 "nbformat": 4,
 "nbformat_minor": 5
}
