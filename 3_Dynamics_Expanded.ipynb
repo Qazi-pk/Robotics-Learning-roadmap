{
 "cells": [
  {
   "cell_type": "markdown",
   "id": "e93469e3",
   "metadata": {},
   "source": [
    "# Week 3 — Dynamics (Expanded)\n",
    "\n",
    "**Learning objectives:**\n",
    "- Detailed derivations and interactive simulations.\n",
    "\n"
   ]
  },
  {
   "cell_type": "code",
   "execution_count": null,
   "id": "b4717a39",
   "metadata": {},
   "outputs": [],
   "source": [
    "# Install in Colab if needed:\n",
    "# !pip install sympy numpy scipy matplotlib ipywidgets\n",
    "# --- Auto GitHub token detection (Colab only) ---\n",
    "try:\n",
    "    from google.colab import userdata\n",
    "    import os\n",
    "    if 'GITHUB_TOKEN' in userdata:\n",
    "        token = userdata.get('GITHUB_TOKEN')\n",
    "        os.environ['GITHUB_TOKEN'] = token\n",
    "        print('✅ Loaded GITHUB_TOKEN from Colab secrets.')\n",
    "    else:\n",
    "        print('⚠️ GITHUB_TOKEN not found in Colab secrets. Use userdata.set_secret(\"GITHUB_TOKEN\").')\n",
    "except Exception as e:\n",
    "    print('Not running in Colab or userdata unavailable:', e)\n",
    "\n",
    "# git config sample (uncomment to use)\n",
    "# !git config --global user.name 'YourName'\n",
    "# !git config --global user.email 'you@example.com'"
   ]
  },
  {
   "cell_type": "markdown",
   "id": "3b390de6",
   "metadata": {},
   "source": [
    "## Lagrangian derivation and computed-torque simulation (2-DOF)"
   ]
  },
  {
   "cell_type": "code",
   "execution_count": null,
   "id": "7c594f3a",
   "metadata": {},
   "outputs": [],
   "source": [
    "import sympy as sp\n",
    "q1,q2,dq1,dq2,l1,l2,m1,m2,I1,I2,g = sp.symbols('q1 q2 dq1 dq2 l1 l2 m1 m2 I1 I2 g', real=True)\n",
    "q = sp.Matrix([q1,q2]); dq = sp.Matrix([dq1,dq2])\n",
    "x1 = (l1/2)*sp.cos(q1); y1 = (l1/2)*sp.sin(q1)\n",
    "x2 = l1*sp.cos(q1) + (l2/2)*sp.cos(q1+q2); y2 = l1*sp.sin(q1) + (l2/2)*sp.sin(q1+q2)\n",
    "J1 = sp.Matrix([x1,y1]).jacobian(q); J2 = sp.Matrix([x2,y2]).jacobian(q)\n",
    "v1 = J1*dq; v2 = J2*dq\n",
    "omega1 = dq1; omega2 = dq1 + dq2\n",
    "T = sp.simplify(sp.Rational(1,2)*m1*(v1.dot(v1)) + sp.Rational(1,2)*I1*omega1**2 + sp.Rational(1,2)*m2*(v2.dot(v2)) + sp.Rational(1,2)*I2*omega2**2)\n",
    "V = sp.simplify(m1*g*y1 + m2*g*y2)\n",
    "M = sp.zeros(2,2)\n",
    "dqs = [dq1,dq2]; qs=[q1,q2]\n",
    "for ii in range(2):\n",
    "    for jj in range(2):\n",
    "        M[ii,jj] = sp.simplify(sp.diff(sp.diff(T, dqs[ii]), dqs[jj]))\n",
    "display(sp.simplify(M))"
   ]
  },
  {
   "cell_type": "code",
   "execution_count": null,
   "id": "6fd9ed09",
   "metadata": {},
   "outputs": [],
   "source": [
    "# Numeric lambdify + quick PD simulation example (Colab)\n",
    "M_func = sp.lambdify((q1,q2,l1,l2,m1,m2,I1,I2), M, 'numpy')\n",
    "import numpy as np\n",
    "from scipy.integrate import solve_ivp\n",
    "import matplotlib.pyplot as plt\n",
    "params = dict(l1=1.0,l2=0.8,m1=1.0,m2=0.8,I1=0.01,I2=0.01,g=9.81)\n",
    "def M_num(qv):\n",
    "    return np.array(M_func(qv[0], qv[1], params['l1'], params['l2'], params['m1'], params['m2'], params['I1'], params['I2']), dtype=float)\n",
    "print('Call M_num([q1,q2]) to get numeric inertia matrix')"
   ]
  }
 ],
 "metadata": {},
 "nbformat": 4,
 "nbformat_minor": 5
}
