{
 "cells": [
  {
   "cell_type": "markdown",
   "id": "81e505a0",
   "metadata": {},
   "source": [
    "# Week 2 — Jacobians (Expanded)\n",
    "\n",
    "**Learning objectives:**\n",
    "- Detailed derivations and interactive simulations.\n",
    "\n"
   ]
  },
  {
   "cell_type": "code",
   "execution_count": null,
   "id": "c37c46f5",
   "metadata": {},
   "outputs": [],
   "source": [
    "# Install in Colab if needed:\n",
    "# !pip install sympy numpy scipy matplotlib ipywidgets\n",
    "# --- Auto GitHub token detection (Colab only) ---\n",
    "try:\n",
    "    from google.colab import userdata\n",
    "    import os\n",
    "    if 'GITHUB_TOKEN' in userdata:\n",
    "        token = userdata.get('GITHUB_TOKEN')\n",
    "        os.environ['GITHUB_TOKEN'] = token\n",
    "        print('✅ Loaded GITHUB_TOKEN from Colab secrets.')\n",
    "    else:\n",
    "        print('⚠️ GITHUB_TOKEN not found in Colab secrets. Use userdata.set_secret(\"GITHUB_TOKEN\").')\n",
    "except Exception as e:\n",
    "    print('Not running in Colab or userdata unavailable:', e)\n",
    "\n",
    "# git config sample (uncomment to use)\n",
    "# !git config --global user.name 'YourName'\n",
    "# !git config --global user.email 'you@example.com'"
   ]
  },
  {
   "cell_type": "markdown",
   "id": "ccfdfa47",
   "metadata": {},
   "source": [
    "## Jacobian derivation and manipulability"
   ]
  },
  {
   "cell_type": "code",
   "execution_count": null,
   "id": "847147d8",
   "metadata": {},
   "outputs": [],
   "source": [
    "import sympy as sp\n",
    "q1,q2,l1,l2 = sp.symbols('q1 q2 l1 l2', real=True)\n",
    "x = l1*sp.cos(q1)+l2*sp.cos(q1+q2)\n",
    "y = l1*sp.sin(q1)+l2*sp.sin(q1+q2)\n",
    "J = sp.Matrix([x,y]).jacobian([q1,q2])\n",
    "display(J)"
   ]
  },
  {
   "cell_type": "code",
   "execution_count": null,
   "id": "b770a4eb",
   "metadata": {},
   "outputs": [],
   "source": [
    "import numpy as np, matplotlib.pyplot as plt\n",
    "try:\n",
    "    import ipywidgets as widgets; from IPython.display import display\n",
    "    def manip_ellipse(q1_val,q2_val,L1=1.0,L2=0.8):\n",
    "        Jn = np.array([[ -L1*np.sin(q1_val)-L2*np.sin(q1_val+q2_val), -L2*np.sin(q1_val+q2_val) ],\n",
    "                       [  L1*np.cos(q1_val)+L2*np.cos(q1_val+q2_val),  L2*np.cos(q1_val+q2_val) ]])\n",
    "        U,S,Vt = np.linalg.svd(Jn @ Jn.T)\n",
    "        theta = np.linspace(0,2*np.pi,100)\n",
    "        ellipse = (U @ np.diag(np.sqrt(S)) @ np.vstack([np.cos(theta), np.sin(theta)]))\n",
    "        plt.figure(figsize=(4,4)); plt.plot(ellipse[0,:], ellipse[1,:]); plt.axis('equal'); plt.grid(True); plt.show()\n",
    "    display(widgets.interactive(manip_ellipse, q1_val=widgets.FloatSlider(-3.14,3.14,0.01,0.5), q2_val=widgets.FloatSlider(-3.14,3.14,0.01,0.3)))\n",
    "except Exception as e:\n",
    "    print('Widgets not available:', e)"
   ]
  }
 ],
 "metadata": {},
 "nbformat": 4,
 "nbformat_minor": 5
}
