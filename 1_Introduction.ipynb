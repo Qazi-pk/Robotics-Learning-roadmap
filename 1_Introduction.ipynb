{
 "cells": [
  {
   "cell_type": "markdown",
   "id": "70645c83",
   "metadata": {},
   "source": [
    "# Week 1 — Introduction to Robotics\n",
    "\n",
    "**Learning objectives:**\n",
    "- Understand coordinate frames, vectors, and rotation matrices.\n",
    "- Learn DH notation and basic forward kinematics concepts.\n",
    "\n",
    "---\n",
    "\n",
    "## Outline\n",
    "1. Coordinate frames and homogeneous transforms\n",
    "2. Rotation matrices (SO(3)) and properties\n",
    "3. Denavit–Hartenberg (DH) convention\n",
    "\n",
    "---\n",
    "\n",
    "### Quick start code\n",
    "Run the cells below to load common libraries."
   ]
  },
  {
   "cell_type": "code",
   "execution_count": null,
   "id": "302c72b7",
   "metadata": {},
   "outputs": [],
   "source": [
    "# Basic imports\n",
    "import numpy as np\n",
    "import sympy as sp\n",
    "import matplotlib.pyplot as plt\n",
    "from math import pi\n",
    "\n",
    "print('NumPy, SymPy, Matplotlib loaded')\n",
    "\n",
    "def Rz(theta):\n",
    "    return np.array([[np.cos(theta), -np.sin(theta), 0],\n",
    "                     [np.sin(theta),  np.cos(theta), 0],\n",
    "                     [0, 0, 1]])\n",
    "\n",
    "print('Rz(pi/4)=')\n",
    "print(Rz(pi/4))\n"
   ]
  },
  {
   "cell_type": "markdown",
   "id": "6b21f50b",
   "metadata": {},
   "source": [
    "### Exercises / Tasks\n",
    "- Derive a 3×3 rotation from axis-angle.\n",
    "- Write a function to compose homogeneous transforms.\n",
    "- Convert a sample DH table into a transform chain."
   ]
  }
 ],
 "metadata": {},
 "nbformat": 4,
 "nbformat_minor": 5
}
