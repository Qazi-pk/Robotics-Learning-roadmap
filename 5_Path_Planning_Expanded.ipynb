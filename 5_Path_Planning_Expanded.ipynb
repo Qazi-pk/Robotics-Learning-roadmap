{
 "cells": [
  {
   "cell_type": "markdown",
   "id": "fe680ecd",
   "metadata": {},
   "source": [
    "# Week 5 — Path Planning (Expanded)\n",
    "\n",
    "**Learning objectives:**\n",
    "- Detailed derivations and interactive simulations.\n",
    "\n"
   ]
  },
  {
   "cell_type": "code",
   "execution_count": null,
   "id": "41484b62",
   "metadata": {},
   "outputs": [],
   "source": [
    "# Install in Colab if needed:\n",
    "# !pip install sympy numpy scipy matplotlib ipywidgets\n",
    "# --- Auto GitHub token detection (Colab only) ---\n",
    "try:\n",
    "    from google.colab import userdata\n",
    "    import os\n",
    "    if 'GITHUB_TOKEN' in userdata:\n",
    "        token = userdata.get('GITHUB_TOKEN')\n",
    "        os.environ['GITHUB_TOKEN'] = token\n",
    "        print('✅ Loaded GITHUB_TOKEN from Colab secrets.')\n",
    "    else:\n",
    "        print('⚠️ GITHUB_TOKEN not found in Colab secrets. Use userdata.set_secret(\"GITHUB_TOKEN\").')\n",
    "except Exception as e:\n",
    "    print('Not running in Colab or userdata unavailable:', e)\n",
    "\n",
    "# git config sample (uncomment to use)\n",
    "# !git config --global user.name 'YourName'\n",
    "# !git config --global user.email 'you@example.com'"
   ]
  },
  {
   "cell_type": "markdown",
   "id": "b620494e",
   "metadata": {},
   "source": [
    "## Trajectory generation: cubic polynomials"
   ]
  },
  {
   "cell_type": "code",
   "execution_count": null,
   "id": "4f138533",
   "metadata": {},
   "outputs": [],
   "source": [
    "import numpy as np\n",
    "def cubic_coeffs(q0,qf,T):\n",
    "    a0=q0; a1=0; a2=3*(qf-q0)/(T**2); a3=-2*(qf-q0)/(T**3)\n",
    "    return lambda t: a0 + a1*t + a2*t**2 + a3*t**3\n",
    "print('Cubic coefficients function defined')"
   ]
  }
 ],
 "metadata": {},
 "nbformat": 4,
 "nbformat_minor": 5
}
