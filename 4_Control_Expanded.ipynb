{
 "cells": [
  {
   "cell_type": "markdown",
   "id": "4f1f9138",
   "metadata": {},
   "source": [
    "# Week 4 — Control (Expanded)\n",
    "\n",
    "**Learning objectives:**\n",
    "- Detailed derivations and interactive simulations.\n",
    "\n"
   ]
  },
  {
   "cell_type": "code",
   "execution_count": null,
   "id": "706ed63b",
   "metadata": {},
   "outputs": [],
   "source": [
    "# Install in Colab if needed:\n",
    "# !pip install sympy numpy scipy matplotlib ipywidgets\n",
    "# --- Auto GitHub token detection (Colab only) ---\n",
    "try:\n",
    "    from google.colab import userdata\n",
    "    import os\n",
    "    if 'GITHUB_TOKEN' in userdata:\n",
    "        token = userdata.get('GITHUB_TOKEN')\n",
    "        os.environ['GITHUB_TOKEN'] = token\n",
    "        print('✅ Loaded GITHUB_TOKEN from Colab secrets.')\n",
    "    else:\n",
    "        print('⚠️ GITHUB_TOKEN not found in Colab secrets. Use userdata.set_secret(\"GITHUB_TOKEN\").')\n",
    "except Exception as e:\n",
    "    print('Not running in Colab or userdata unavailable:', e)\n",
    "\n",
    "# git config sample (uncomment to use)\n",
    "# !git config --global user.name 'YourName'\n",
    "# !git config --global user.email 'you@example.com'"
   ]
  },
  {
   "cell_type": "markdown",
   "id": "8de5279e",
   "metadata": {},
   "source": [
    "## Control: PD, computed torque, LQR notes"
   ]
  },
  {
   "cell_type": "code",
   "execution_count": null,
   "id": "4523c01d",
   "metadata": {},
   "outputs": [],
   "source": [
    "import numpy as np\n",
    "print('Control utilities placeholder')"
   ]
  }
 ],
 "metadata": {},
 "nbformat": 4,
 "nbformat_minor": 5
}
